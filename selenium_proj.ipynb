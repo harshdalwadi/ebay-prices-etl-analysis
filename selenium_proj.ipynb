{
 "cells": [
  {
   "cell_type": "code",
   "execution_count": 68,
   "id": "bbd9acd2-8ca4-4ed4-a965-f5cbbd44d55a",
   "metadata": {},
   "outputs": [
    {
     "name": "stdout",
     "output_type": "stream",
     "text": [
      "Requirement already satisfied: selenium in c:\\users\\dalwa\\anaconda3\\lib\\site-packages (4.36.0)\n",
      "Requirement already satisfied: pandas in c:\\users\\dalwa\\anaconda3\\lib\\site-packages (2.2.2)\n",
      "Collecting pandas\n",
      "  Downloading pandas-2.3.3-cp312-cp312-win_amd64.whl.metadata (19 kB)\n",
      "Requirement already satisfied: openpyxl in c:\\users\\dalwa\\anaconda3\\lib\\site-packages (3.1.5)\n",
      "Collecting loguru\n",
      "  Downloading loguru-0.7.3-py3-none-any.whl.metadata (22 kB)\n",
      "Requirement already satisfied: tenacity in c:\\users\\dalwa\\anaconda3\\lib\\site-packages (8.2.3)\n",
      "Collecting tenacity\n",
      "  Downloading tenacity-9.1.2-py3-none-any.whl.metadata (1.2 kB)\n",
      "Requirement already satisfied: python-dotenv in c:\\users\\dalwa\\anaconda3\\lib\\site-packages (0.21.0)\n",
      "Collecting python-dotenv\n",
      "  Downloading python_dotenv-1.1.1-py3-none-any.whl.metadata (24 kB)\n",
      "Requirement already satisfied: urllib3<3.0,>=2.5.0 in c:\\users\\dalwa\\anaconda3\\lib\\site-packages (from urllib3[socks]<3.0,>=2.5.0->selenium) (2.5.0)\n",
      "Requirement already satisfied: trio<1.0,>=0.30.0 in c:\\users\\dalwa\\anaconda3\\lib\\site-packages (from selenium) (0.31.0)\n",
      "Requirement already satisfied: trio-websocket<1.0,>=0.12.2 in c:\\users\\dalwa\\anaconda3\\lib\\site-packages (from selenium) (0.12.2)\n",
      "Requirement already satisfied: certifi>=2025.6.15 in c:\\users\\dalwa\\anaconda3\\lib\\site-packages (from selenium) (2025.10.5)\n",
      "Requirement already satisfied: typing_extensions<5.0,>=4.14.0 in c:\\users\\dalwa\\anaconda3\\lib\\site-packages (from selenium) (4.15.0)\n",
      "Requirement already satisfied: websocket-client<2.0,>=1.8.0 in c:\\users\\dalwa\\anaconda3\\lib\\site-packages (from selenium) (1.8.0)\n",
      "Requirement already satisfied: numpy>=1.26.0 in c:\\users\\dalwa\\anaconda3\\lib\\site-packages (from pandas) (1.26.4)\n",
      "Requirement already satisfied: python-dateutil>=2.8.2 in c:\\users\\dalwa\\anaconda3\\lib\\site-packages (from pandas) (2.9.0.post0)\n",
      "Requirement already satisfied: pytz>=2020.1 in c:\\users\\dalwa\\anaconda3\\lib\\site-packages (from pandas) (2024.1)\n",
      "Requirement already satisfied: tzdata>=2022.7 in c:\\users\\dalwa\\anaconda3\\lib\\site-packages (from pandas) (2023.3)\n",
      "Requirement already satisfied: et-xmlfile in c:\\users\\dalwa\\anaconda3\\lib\\site-packages (from openpyxl) (1.1.0)\n",
      "Requirement already satisfied: colorama>=0.3.4 in c:\\users\\dalwa\\anaconda3\\lib\\site-packages (from loguru) (0.4.6)\n",
      "Collecting win32-setctime>=1.0.0 (from loguru)\n",
      "  Downloading win32_setctime-1.2.0-py3-none-any.whl.metadata (2.4 kB)\n",
      "Requirement already satisfied: six>=1.5 in c:\\users\\dalwa\\anaconda3\\lib\\site-packages (from python-dateutil>=2.8.2->pandas) (1.16.0)\n",
      "Requirement already satisfied: attrs>=23.2.0 in c:\\users\\dalwa\\anaconda3\\lib\\site-packages (from trio<1.0,>=0.30.0->selenium) (25.4.0)\n",
      "Requirement already satisfied: sortedcontainers in c:\\users\\dalwa\\anaconda3\\lib\\site-packages (from trio<1.0,>=0.30.0->selenium) (2.4.0)\n",
      "Requirement already satisfied: idna in c:\\users\\dalwa\\anaconda3\\lib\\site-packages (from trio<1.0,>=0.30.0->selenium) (3.7)\n",
      "Requirement already satisfied: outcome in c:\\users\\dalwa\\anaconda3\\lib\\site-packages (from trio<1.0,>=0.30.0->selenium) (1.3.0.post0)\n",
      "Requirement already satisfied: sniffio>=1.3.0 in c:\\users\\dalwa\\anaconda3\\lib\\site-packages (from trio<1.0,>=0.30.0->selenium) (1.3.0)\n",
      "Requirement already satisfied: cffi>=1.14 in c:\\users\\dalwa\\anaconda3\\lib\\site-packages (from trio<1.0,>=0.30.0->selenium) (1.17.1)\n",
      "Requirement already satisfied: wsproto>=0.14 in c:\\users\\dalwa\\anaconda3\\lib\\site-packages (from trio-websocket<1.0,>=0.12.2->selenium) (1.2.0)\n",
      "Requirement already satisfied: pysocks!=1.5.7,<2.0,>=1.5.6 in c:\\users\\dalwa\\anaconda3\\lib\\site-packages (from urllib3[socks]<3.0,>=2.5.0->selenium) (1.7.1)\n",
      "Requirement already satisfied: pycparser in c:\\users\\dalwa\\anaconda3\\lib\\site-packages (from cffi>=1.14->trio<1.0,>=0.30.0->selenium) (2.21)\n",
      "Requirement already satisfied: h11<1,>=0.9.0 in c:\\users\\dalwa\\anaconda3\\lib\\site-packages (from wsproto>=0.14->trio-websocket<1.0,>=0.12.2->selenium) (0.14.0)\n",
      "Downloading pandas-2.3.3-cp312-cp312-win_amd64.whl (11.0 MB)\n",
      "   ---------------------------------------- 0.0/11.0 MB ? eta -:--:--\n",
      "   ------------ --------------------------- 3.4/11.0 MB 20.2 MB/s eta 0:00:01\n",
      "   ----------------------------- ---------- 8.1/11.0 MB 21.9 MB/s eta 0:00:01\n",
      "   ---------------------------------------- 11.0/11.0 MB 20.8 MB/s eta 0:00:00\n",
      "Downloading loguru-0.7.3-py3-none-any.whl (61 kB)\n",
      "Downloading tenacity-9.1.2-py3-none-any.whl (28 kB)\n",
      "Downloading python_dotenv-1.1.1-py3-none-any.whl (20 kB)\n",
      "Downloading win32_setctime-1.2.0-py3-none-any.whl (4.1 kB)\n",
      "Installing collected packages: win32-setctime, tenacity, python-dotenv, pandas, loguru\n",
      "  Attempting uninstall: tenacity\n",
      "    Found existing installation: tenacity 8.2.3\n",
      "    Uninstalling tenacity-8.2.3:\n",
      "      Successfully uninstalled tenacity-8.2.3\n",
      "  Attempting uninstall: python-dotenv\n",
      "    Found existing installation: python-dotenv 0.21.0\n",
      "    Uninstalling python-dotenv-0.21.0:\n",
      "      Successfully uninstalled python-dotenv-0.21.0\n",
      "  Attempting uninstall: pandas\n",
      "    Found existing installation: pandas 2.2.2\n",
      "    Uninstalling pandas-2.2.2:\n",
      "      Successfully uninstalled pandas-2.2.2\n",
      "Successfully installed loguru-0.7.3 pandas-2.3.3 python-dotenv-1.1.1 tenacity-9.1.2 win32-setctime-1.2.0\n"
     ]
    },
    {
     "name": "stderr",
     "output_type": "stream",
     "text": [
      "ERROR: pip's dependency resolver does not currently take into account all the packages that are installed. This behaviour is the source of the following dependency conflicts.\n",
      "streamlit 1.37.1 requires tenacity<9,>=8.1.0, but you have tenacity 9.1.2 which is incompatible.\n"
     ]
    }
   ],
   "source": [
    "!pip install -U selenium pandas openpyxl loguru tenacity python-dotenv"
   ]
  },
  {
   "cell_type": "markdown",
   "id": "5c3c5e59-9a3d-4a58-a2b9-7ad094eee84b",
   "metadata": {},
   "source": [
    "### Library Import"
   ]
  },
  {
   "cell_type": "code",
   "execution_count": 131,
   "id": "7b497b6c-9622-4fb5-a013-4ec1daff25fb",
   "metadata": {},
   "outputs": [],
   "source": [
    "import time, random, re, sys\n",
    "from pathlib import Path\n",
    "\n",
    "import pandas as pd\n",
    "from loguru import logger\n",
    "\n",
    "from selenium import webdriver\n",
    "from selenium.webdriver.chrome.options import Options\n",
    "from selenium.webdriver.common.by import By\n",
    "from selenium.webdriver.support.ui import WebDriverWait #wait until the page is ready\n",
    "from selenium.webdriver.support import expected_conditions as EC #wait until the page is ready\n",
    "\n",
    "from urllib.parse import quote_plus #"
   ]
  },
  {
   "cell_type": "markdown",
   "id": "d55d840c-909d-4fb2-8f6e-f76c842917f6",
   "metadata": {},
   "source": [
    "#### Add Chrome browser window for python to browser excess"
   ]
  },
  {
   "cell_type": "code",
   "execution_count": 113,
   "id": "855af734-87d5-4060-a2a9-447b2395b4d7",
   "metadata": {},
   "outputs": [],
   "source": [
    "def make_driver(headless=True):\n",
    "    options = Options()\n",
    "    options.add_argument(\"--window-size=1920,1080\")\n",
    "    if headless:\n",
    "        options.add_argument(\"--headless\")  # Run browser without opening window\n",
    "    driver = webdriver.Chrome(options=options)\n",
    "    return driver"
   ]
  },
  {
   "cell_type": "markdown",
   "id": "e6e843a4-7127-43a8-aa75-9b15c24f51b5",
   "metadata": {},
   "source": [
    "#### Make driver"
   ]
  },
  {
   "cell_type": "code",
   "execution_count": 126,
   "id": "b94d2e7a-f16f-48f9-ad44-49f894109a6d",
   "metadata": {},
   "outputs": [],
   "source": [
    "driver = make_driver(headless=False)  # set to False to watch it open"
   ]
  },
  {
   "cell_type": "markdown",
   "id": "eccd7166-fa16-4cd5-b7b8-7c00e031aeac",
   "metadata": {},
   "source": [
    "##### Build search url"
   ]
  },
  {
   "cell_type": "code",
   "execution_count": 140,
   "id": "7917c344-ee72-4e39-b062-0980371df01e",
   "metadata": {},
   "outputs": [],
   "source": [
    "def search_url(query, page=1):\n",
    "    return f\"https://www.ebay.com/sch/i.html?_nkw={quote_plus(query)}&_pgn={page}\""
   ]
  },
  {
   "cell_type": "code",
   "execution_count": 171,
   "id": "b7fed941-c273-4244-8c0a-212b624760f5",
   "metadata": {},
   "outputs": [],
   "source": [
    "def scrape_one_page(driver, query=\"iphone 13\", page=1):\n",
    "    url = search_url(query, page)\n",
    "    driver.get(url)\n",
    "\n",
    "    # wait until at least one product appears\n",
    "    # WebDriverWait(driver, 5).until(\n",
    "    #     EC.presence_of_all_elements_located((By.CSS_SELECTOR, \"li.s-item\"))\n",
    "    # )\n",
    "\n",
    "    cards = driver.find_elements(By.CSS_SELECTOR, \"li.s-item\")\n",
    "    results = []\n",
    "\n",
    "    for c in cards:\n",
    "        try:\n",
    "            title = c.find_element(By.CSS_SELECTOR, \".s-item__title\").text\n",
    "            price = c.find_element(By.CSS_SELECTOR, \".s-item__price\").text\n",
    "            link = c.find_element(By.CSS_SELECTOR, \"a.s-item__link\").get_attribute(\"href\")\n",
    "\n",
    "            results.append({\n",
    "                \"title\": title,\n",
    "                \"price_raw\": price,\n",
    "                \"link\": link,\n",
    "            })\n",
    "        except Exception as e:\n",
    "            print(\"Skipping one card:\", e)\n",
    "\n",
    "    return results"
   ]
  },
  {
   "cell_type": "code",
   "execution_count": 175,
   "id": "9c902232-9112-4c87-9199-c835561070aa",
   "metadata": {},
   "outputs": [
    {
     "name": "stdout",
     "output_type": "stream",
     "text": [
      "0 items found\n"
     ]
    },
    {
     "data": {
      "text/html": [
       "<div>\n",
       "<style scoped>\n",
       "    .dataframe tbody tr th:only-of-type {\n",
       "        vertical-align: middle;\n",
       "    }\n",
       "\n",
       "    .dataframe tbody tr th {\n",
       "        vertical-align: top;\n",
       "    }\n",
       "\n",
       "    .dataframe thead th {\n",
       "        text-align: right;\n",
       "    }\n",
       "</style>\n",
       "<table border=\"1\" class=\"dataframe\">\n",
       "  <thead>\n",
       "    <tr style=\"text-align: right;\">\n",
       "      <th></th>\n",
       "    </tr>\n",
       "  </thead>\n",
       "  <tbody>\n",
       "  </tbody>\n",
       "</table>\n",
       "</div>"
      ],
      "text/plain": [
       "Empty DataFrame\n",
       "Columns: []\n",
       "Index: []"
      ]
     },
     "execution_count": 175,
     "metadata": {},
     "output_type": "execute_result"
    }
   ],
   "source": [
    "driver = make_driver(headless=False)\n",
    "data = scrape_one_page(driver, \"iphone 13\", 1)\n",
    "driver.quit()\n",
    "\n",
    "print(len(data), \"items found\")\n",
    "pd.DataFrame(data).head()"
   ]
  },
  {
   "cell_type": "code",
   "execution_count": null,
   "id": "219f5c22-a937-471b-8800-27bf60791f00",
   "metadata": {},
   "outputs": [],
   "source": []
  }
 ],
 "metadata": {
  "kernelspec": {
   "display_name": "Python [conda env:base] *",
   "language": "python",
   "name": "conda-base-py"
  },
  "language_info": {
   "codemirror_mode": {
    "name": "ipython",
    "version": 3
   },
   "file_extension": ".py",
   "mimetype": "text/x-python",
   "name": "python",
   "nbconvert_exporter": "python",
   "pygments_lexer": "ipython3",
   "version": "3.12.7"
  }
 },
 "nbformat": 4,
 "nbformat_minor": 5
}
