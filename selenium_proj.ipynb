{
 "cells": [
  {
   "cell_type": "code",
   "execution_count": 1,
   "id": "bbd9acd2-8ca4-4ed4-a965-f5cbbd44d55a",
   "metadata": {},
   "outputs": [],
   "source": [
    "# pip install -U selenium pandas openpyxl loguru tenacity python-dotenv"
   ]
  },
  {
   "cell_type": "markdown",
   "id": "5c3c5e59-9a3d-4a58-a2b9-7ad094eee84b",
   "metadata": {},
   "source": [
    "### Library Import"
   ]
  },
  {
   "cell_type": "code",
   "execution_count": 3,
   "id": "7b497b6c-9622-4fb5-a013-4ec1daff25fb",
   "metadata": {},
   "outputs": [],
   "source": [
    "import time, random, re, sys\n",
    "from pathlib import Path\n",
    "\n",
    "import pandas as pd\n",
    "from loguru import logger\n",
    "\n",
    "from selenium import webdriver\n",
    "from selenium.webdriver.chrome.options import Options\n",
    "from selenium.webdriver.common.by import By\n",
    "from selenium.webdriver.support.ui import WebDriverWait #wait until the page is ready\n",
    "from selenium.webdriver.support import expected_conditions as EC #wait until the page is ready\n",
    "\n",
    "from urllib.parse import quote_plus #"
   ]
  },
  {
   "cell_type": "markdown",
   "id": "d55d840c-909d-4fb2-8f6e-f76c842917f6",
   "metadata": {},
   "source": [
    "#### Add Chrome browser window for python to browser excess"
   ]
  },
  {
   "cell_type": "code",
   "execution_count": 5,
   "id": "855af734-87d5-4060-a2a9-447b2395b4d7",
   "metadata": {},
   "outputs": [],
   "source": [
    "def make_driver(headless=True):\n",
    "    options = Options()\n",
    "    options.add_argument(\"--window-size=1920,1080\")\n",
    "    if headless:\n",
    "        options.add_argument(\"--headless\")  # Run browser without opening window\n",
    "    driver = webdriver.Chrome(options=options)\n",
    "    return driver"
   ]
  },
  {
   "cell_type": "markdown",
   "id": "e6e843a4-7127-43a8-aa75-9b15c24f51b5",
   "metadata": {},
   "source": [
    "#### Make driver"
   ]
  },
  {
   "cell_type": "code",
   "execution_count": 7,
   "id": "b94d2e7a-f16f-48f9-ad44-49f894109a6d",
   "metadata": {},
   "outputs": [],
   "source": [
    "driver = make_driver(headless=False)  # set to False to watch it open"
   ]
  },
  {
   "cell_type": "markdown",
   "id": "eccd7166-fa16-4cd5-b7b8-7c00e031aeac",
   "metadata": {},
   "source": [
    "##### Build search url"
   ]
  },
  {
   "cell_type": "code",
   "execution_count": 9,
   "id": "7917c344-ee72-4e39-b062-0980371df01e",
   "metadata": {},
   "outputs": [],
   "source": [
    "def search_url(query, page=1):\n",
    "    return f\"https://www.ebay.com/sch/i.html?_nkw={quote_plus(query)}&_pgn={page}\""
   ]
  },
  {
   "cell_type": "code",
   "execution_count": 10,
   "id": "b7fed941-c273-4244-8c0a-212b624760f5",
   "metadata": {},
   "outputs": [],
   "source": [
    "def scrape_one_page(driver, query=\"iphone 13\", page=1):\n",
    "    url = search_url(query, page)\n",
    "    driver.get(url)\n",
    "\n",
    "    # wait until at least one product appears\n",
    "    WebDriverWait(driver, 5).until(\n",
    "        EC.presence_of_all_elements_located((By.CSS_SELECTOR, \"li.s-item\"))\n",
    "    )\n",
    "\n",
    "    cards = driver.find_elements(By.CSS_SELECTOR, \"li.s-item\")\n",
    "    results = []\n",
    "\n",
    "    for c in cards:\n",
    "        try:\n",
    "            title = c.find_element(By.CSS_SELECTOR, \".s-item__title\").text\n",
    "            price = c.find_element(By.CSS_SELECTOR, \".s-item__price\").text\n",
    "            link = c.find_element(By.CSS_SELECTOR, \"a.s-item__link\").get_attribute(\"href\")\n",
    "\n",
    "            results.append({\n",
    "                \"title\": title,\n",
    "                \"price_raw\": price,\n",
    "                \"link\": link,\n",
    "            })\n",
    "        except Exception as e:\n",
    "            print(\"Skipping one card:\", e)\n",
    "\n",
    "    return results"
   ]
  },
  {
   "cell_type": "code",
   "execution_count": 11,
   "id": "9c902232-9112-4c87-9199-c835561070aa",
   "metadata": {},
   "outputs": [
    {
     "name": "stdout",
     "output_type": "stream",
     "text": [
      "0 items found\n"
     ]
    },
    {
     "data": {
      "text/html": [
       "<div>\n",
       "<style scoped>\n",
       "    .dataframe tbody tr th:only-of-type {\n",
       "        vertical-align: middle;\n",
       "    }\n",
       "\n",
       "    .dataframe tbody tr th {\n",
       "        vertical-align: top;\n",
       "    }\n",
       "\n",
       "    .dataframe thead th {\n",
       "        text-align: right;\n",
       "    }\n",
       "</style>\n",
       "<table border=\"1\" class=\"dataframe\">\n",
       "  <thead>\n",
       "    <tr style=\"text-align: right;\">\n",
       "      <th></th>\n",
       "    </tr>\n",
       "  </thead>\n",
       "  <tbody>\n",
       "  </tbody>\n",
       "</table>\n",
       "</div>"
      ],
      "text/plain": [
       "Empty DataFrame\n",
       "Columns: []\n",
       "Index: []"
      ]
     },
     "execution_count": 11,
     "metadata": {},
     "output_type": "execute_result"
    }
   ],
   "source": [
    "driver = make_driver(headless=False)\n",
    "data = scrape_one_page(driver, \"iphone 13\", 1)\n",
    "driver.quit()\n",
    "\n",
    "print(len(data), \"items found\")\n",
    "pd.DataFrame(data).head()"
   ]
  },
  {
   "cell_type": "code",
   "execution_count": null,
   "id": "219f5c22-a937-471b-8800-27bf60791f00",
   "metadata": {},
   "outputs": [],
   "source": []
  }
 ],
 "metadata": {
  "kernelspec": {
   "display_name": "Python [conda env:base] *",
   "language": "python",
   "name": "conda-base-py"
  },
  "language_info": {
   "codemirror_mode": {
    "name": "ipython",
    "version": 3
   },
   "file_extension": ".py",
   "mimetype": "text/x-python",
   "name": "python",
   "nbconvert_exporter": "python",
   "pygments_lexer": "ipython3",
   "version": "3.12.7"
  }
 },
 "nbformat": 4,
 "nbformat_minor": 5
}
